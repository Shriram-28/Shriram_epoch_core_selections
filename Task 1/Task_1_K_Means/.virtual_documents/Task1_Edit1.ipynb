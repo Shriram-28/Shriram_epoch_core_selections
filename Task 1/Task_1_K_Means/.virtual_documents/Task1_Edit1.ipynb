


import pandas as pd
import numpy as np
import matplotlib.pyplot as plt


import seaborn as sns
import geopandas as gpd
from shapely.geometry import Point

sns.set_style('whitegrid')


data_path = r'C:\Shriram\IIT_HYD\Epoch\Selections\clustering_data.csv'
data = pd.read_csv(data_path)


data





data_f = data[(data.StateName == 'KARNATAKA')s&(data.Latitude != 'NA')&(data.Longitude != 'NA')&(data.Latitude != np.nan)&(data.Longitude != np.nan)]


data_f


data_f['Longitude'].str.slice(start=0,stop=-2)


data_f['Longitude'] = data_f['Longitude'].str.slice(start=0,stop=-2)


data_f.columns


X = data_f.drop(['CircleName', 'RegionName', 'DivisionName', 'OfficeName', 'Pincode',
       'OfficeType', 'Delivery', 'District', 'StateName'],axis = 'columns')


X





india_state_df = pd.read_csv('state wise lat and long.csv')
india_state_df


fp = r'Districts shape file\Census_2011\2011_Dist.shp'
karnataka_df = gpd.read_file(fp)
karnataka_df .head()


karnataka_df = karnataka_df[karnataka_df.ST_NM == 'Karnataka']


karnataka_df


data_f_j = data_f.drop(['CircleName', 'RegionName', 'DivisionName', 'OfficeName', 'Pincode',
       'OfficeType', 'Delivery','StateName'],axis = 'columns')


data_f_j


merged_df = karnataka_df.set_index('DISTRICT').join(data_f_j.set_index('District'))


lo = list(X['Longitude'])
la = list(X['Latitude'])
res_lo = [float(i) for i in lo]
res_la = [float(j) for j in la]
fig,ax = plt.subplots(figsize = (20,20))
karnataka_df.plot(ax = ax)
geometry = [Point(xy) for xy in zip(res_lo,res_la)]
geo_df = gpd.GeoDataFrame(geometry = geometry)
print(geo_df)
g = geo_df.plot(ax = ax, markersize = 20, color = 'red',marker = '*',label = 'Delhi')
plt.show()


lo



