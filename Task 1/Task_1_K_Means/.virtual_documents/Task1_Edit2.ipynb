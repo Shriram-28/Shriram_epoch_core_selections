


import pandas as pd
import numpy as np
import matplotlib.pyplot as plt


import seaborn as sns
import geopandas as gpd
from shapely.geometry import Point

sns.set_style('whitegrid')


data_path = r'C:\Shriram\IIT_HYD\Epoch\Selections\clustering_data.csv'
data = pd.read_csv(data_path)


data


data.shape





data_k = data[(data.StateName == 'KARNATAKA')]


data_k.dropna(subset = ['Latitude','Longitude'])


data_k_nd = data_k.dropna(subset = ['Latitude','Longitude'])


null_df = data_k_nd.isnull()
null_df


#Confirming there are no null values in data_k_nd['Latitude']
filt = null_df['Latitude'] == True 
null_df[filt]


#Confirming there are no null values in data_k_nd['Longitude']
filt1 = null_df['Longitude'] == True
null_df[filt1]


#Confirming there are no null values in data_k_nd["StateName"]
filt2 = null_df['StateName'] == True
null_df[filt2]


filt6 = X['Latitude'] == 'NA'
X[filt6]


X = data_k_nd.drop(['CircleName', 'RegionName', 'DivisionName', 'OfficeName', 'Pincode',
       'OfficeType', 'Delivery', 'District'],axis = 'columns')


X


lo = list(X['Longitude'])


print(f'Check for missings')
for c in X.columns:
    count = X[c].isnull().sum()
    print(f'Col {c} has {count} missing values')
print(f'Done checking for missings')


filt3 = X['Latitude'].str.contains('-',na=False)
X[filt3]


filt4 = X['Longitude'].str.contains('-',na=False)
X[filt4]


filt5 = (X['Latitude'].str.contains('-',na=False)) | (X['Longitude'].str.contains('-',na=False))
X[filt5]


X_hyp_rem = X[~filt5]


print(f'Check for missings')
for c in X_hyp_rem.columns:
    count = X_hyp_rem[c].isnull().sum()
    print(f'Col {c} has {count} missing values')
print(f'Done checking for missings')


data_k_nd_hyp_rem = data_k_nd[~filt5]





fp = r'Districts shape file\Census_2011\2011_Dist.shp'
karnataka_df = gpd.read_file(fp)
karnataka_df .head()


karnataka_df = karnataka_df[karnataka_df.ST_NM == 'Karnataka']
karnataka_df


lo = list(X_hyp_rem['Longitude'])
la = list(X_hyp_rem['Latitude'])
res_lo = [float(i) for i in lo]
res_la = [float(j) for j in la]
fig,ax = plt.subplots(figsize = (15,15))
karnataka_df.plot(ax = ax)
geometry = [Point(xy) for xy in zip(res_lo,res_la)]
geo_df = gpd.GeoDataFrame(geometry = geometry)
g = geo_df.plot(ax = ax, markersize = 20, color = 'red',marker = '*',label = 'Karnataka')
plt.show()


plt.scatter(res_la,res_lo)
plt.show()


X_hyp_rem.dtypes


X_hyp_rem['Longitude'].astype(float)


X_hyp_rem['Latitude'] = X_hyp_rem['Latitude'].astype(float)
X_hyp_rem['Longitude'] = X_hyp_rem['Longitude'].astype(float)


filt7 = X_hyp_rem['Longitude'] >= 200
print(X_hyp_rem[filt7])
print('Latittude')
filt8 = X_hyp_rem['Latitude'] >= 200
print(X_hyp_rem[filt8])


filt9 = (X_hyp_rem['Longitude'] >= 200) | (X_hyp_rem['Latitude'] >= 200)
X_hyp_rem[filt9]





X_hyp_rem_sk = X_hyp_rem[~filt9]





lo = list(X_hyp_rem_sk['Longitude'])
la = list(X_hyp_rem_sk['Latitude'])
fig,ax = plt.subplots(figsize = (15,15))
karnataka_df.plot(ax = ax)
geometry = [Point(xy) for xy in zip(lo,la)]
geo_df = gpd.GeoDataFrame(geometry = geometry)
g = geo_df.plot(ax = ax, markersize = 20, color = 'red',marker = '*',label = 'Karnataka')
plt.show()











def find_closest_centroids(X, centroids):
    """
    Computes the centroid memberships for every example
    
    Args:
        X (ndarray): (m, n) Input values      
        centroids (ndarray): (K, n) centroids
    
    Returns:
        idx (array_like): (m,) closest centroids
    
    """

    # Set K
    K = centroids.shape[0]

    # You need to return the following variables correctly
    idx = np.zeros(X.shape[0], dtype=int)

    ### START CODE HERE ###
    for i in range(X.shape[0]):
        distance = []
        for j in range(centroids.shape[0]):
            norm_ij = np.linalg.norm(X[i]-centroids[j]) #finding the L2 Norm
            distance.append(norm_ij)
        idx[i] = np.argmin(distance) #Updating closest centroids
     ### END CODE HERE ###
    
    return idx





def compute_centroids(X, idx, K):
    """
    Returns the new centroids by computing the means of the 
    data points assigned to each centroid.
    
    Args:
        X (ndarray):   (m, n) Data points
        idx (ndarray): (m,) Array containing index of closest centroid for each 
                       example in X. Concretely, idx[i] contains the index of 
                       the centroid closest to example i
        K (int):       number of centroids
    
    Returns:
        centroids (ndarray): (K, n) New centroids computed
    """
    
    # Useful variables
    m, n = X.shape
    
    # You need to return the following variables correctly
    centroids = np.zeros((K, n))
    
    ### START CODE HERE ###
    for k in range(K):
        points = X[idx==k]
        centroids[k]= np.mean(points,axis=0)
    ### END CODE HERE ## 
    
    return centroids





#Implementing the kMeans_init_centroids function

def kMeans_init_centroids(X, K):
    """
    This function initializes K centroids that are to be 
    used in K-Means on the dataset X
    
    Args:
        X (ndarray): Data points 
        K (int):     number of centroids/clusters
    
    Returns:
        centroids (ndarray): Initialized centroids
    """
    
    # Randomly reorder the indices of examples
    randidx = np.random.permutation(X.shape[0])
    
    # Take the first K examples as centroids
    centroids = X[randidx[:K]]
    
    return centroids








# run_kMeans function to run the K-Means Algorithm

def run_kMeans(X, initial_centroids, max_iters=10, plot_progress=False):
    """
    Runs the K-Means algorithm on data matrix X, where each row of X
    is a single example
    """
    
    # Initialize values
    m, n = X.shape
    K = initial_centroids.shape[0]
    centroids = initial_centroids
    previous_centroids = centroids    
    idx = np.zeros(m)
    plt.figure(figsize=(18, 16))

    # Run K-Means
    for i in range(max_iters):
        
        #Output progress
        print("K-Means iteration %d/%d" % (i, max_iters-1))
        
        # For each example in X, assign it to the closest centroid
        idx = find_closest_centroids(X, centroids)
        
        # Optionally plot progress
        if plot_progress:
            plot_progress_kMeans(X, centroids, previous_centroids, idx, K, i)
            previous_centroids = centroids
            
        # Given the memberships, compute new centroids
        centroids = compute_centroids(X, idx, K)
    plt.show() 
    return centroids, idx



