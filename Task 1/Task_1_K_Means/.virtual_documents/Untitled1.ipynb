


import pandas as pd
import numpy as np
import matplotlib.pyplot as plt


import seaborn as sns
import geopandas as gpd
from shapely.geometry import Point

sns.set_style('whitegrid')


data_path = r'C:\Shriram\IIT_HYD\Epoch\Selections\clustering_data.csv'
data = pd.read_csv(data_path)


data


data.shape





data_k = data[(data.StateName == 'KARNATAKA')]


data_k.dropna(subset = ['Latitude','Longitude'])


data_k_nd = data_k.dropna(subset = ['Latitude','Longitude'])


null_df = data_k_nd.isnull()
null_df


#Confirming there are no null values in data_k_nd['Latitude']
filt = null_df['Latitude'] == True 
null_df[filt]


#Confirming there are no null values in data_k_nd['Longitude']
filt1 = null_df['Longitude'] == True
null_df[filt1]


#Confirming there are no null values in data_k_nd["StateName"]
filt2 = null_df['StateName'] == True
null_df[filt2]


X = data_k_nd.drop(['CircleName', 'RegionName', 'DivisionName', 'OfficeName', 'Pincode',
       'OfficeType', 'Delivery', 'District'],axis = 'columns')


X


lo = list(X['Longitude'])


print(f'Check for missings')
for c in X.columns:
    count = X[c].isnull().sum()
    print(f'Col {c} has {count} missing values')
print(f'Done checking for missings')


filt3 = X['Latitude'].str.contains('-',na=False)
X[filt3]


filt4 = X['Longitude'].str.contains('-',na=False)
X[filt4]


filt5 = (X['Latitude'].str.contains('-',na=False)) | (X['Longitude'].str.contains('-',na=False))
X[filt5]


X_hyp_rem = X[~filt5]


print(f'Check for missings')
for c in X_hyp_rem.columns:
    count = X_hyp_rem[c].isnull().sum()
    print(f'Col {c} has {count} missing values')
print(f'Done checking for missings')



