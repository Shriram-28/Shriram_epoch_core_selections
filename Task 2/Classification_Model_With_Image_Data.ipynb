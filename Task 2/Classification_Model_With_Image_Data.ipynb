{
 "cells": [
  {
   "cell_type": "code",
   "execution_count": 1,
   "id": "bb946eab-90c7-45ab-93d6-f571a9a099d4",
   "metadata": {},
   "outputs": [],
   "source": [
    "import matplotlib.pyplot as plt\n",
    "import cv2\n",
    "import numpy as np\n",
    "from keras.models import Sequential\n",
    "from keras.layers import Dense, Flatten, Conv2D, MaxPool2D, Dropout\n",
    "from keras.optimizers import SGD, Adam\n",
    "from keras.callbacks import ReduceLROnPlateau, EarlyStopping, ModelCheckpoint\n",
    "from keras.utils import to_categorical\n",
    "import pandas as pd\n",
    "import numpy as np\n",
    "from sklearn.model_selection import train_test_split\n",
    "from sklearn.utils import shuffle\n",
    "import os"
   ]
  },
  {
   "cell_type": "code",
   "execution_count": 2,
   "id": "102cb2a6-da03-4bc4-a6c6-c44b09bf95ce",
   "metadata": {},
   "outputs": [],
   "source": [
    "import cv2\n",
    "import os\n",
    "\n",
    "def load_images_from_folder(folder_path):\n",
    "  \"\"\"\n",
    "  This function loads all images from a folder and saves them in a list.\n",
    "\n",
    "  Args:\n",
    "      folder_path (str): The path to the folder containing the images.\n",
    "\n",
    "  Returns:\n",
    "      list: A list containing the loaded images as OpenCV image arrays.\n",
    "  \"\"\"\n",
    "\n",
    "  images = []\n",
    "  for filename in os.listdir(folder_path):\n",
    "    # Check if the file is an image\n",
    "    if filename.lower().endswith((\".jpg\", \".jpeg\", \".png\")):\n",
    "      # Get the full path of the image\n",
    "      image_path = os.path.join(folder_path, filename)\n",
    "      # Load the image using cv2.imread\n",
    "      image = cv2.imread(image_path)\n",
    "      \n",
    "      # Check if image loading is successful\n",
    "      if image is not None:\n",
    "        images.append(image)\n",
    "      else:\n",
    "        print(f\"Error loading image: {filename}\")\n",
    "\n",
    "  return images"
   ]
  },
  {
   "cell_type": "code",
   "execution_count": 3,
   "id": "863e6735-6a06-4dd7-9ef4-222af55a1b45",
   "metadata": {},
   "outputs": [],
   "source": [
    "df = pd.read_csv('data/alphabet_labels.csv')"
   ]
  },
  {
   "cell_type": "code",
   "execution_count": 4,
   "id": "ae382617-6f4a-469e-9bc2-d940211f6ca5",
   "metadata": {},
   "outputs": [
    {
     "data": {
      "text/html": [
       "<div>\n",
       "<style scoped>\n",
       "    .dataframe tbody tr th:only-of-type {\n",
       "        vertical-align: middle;\n",
       "    }\n",
       "\n",
       "    .dataframe tbody tr th {\n",
       "        vertical-align: top;\n",
       "    }\n",
       "\n",
       "    .dataframe thead th {\n",
       "        text-align: right;\n",
       "    }\n",
       "</style>\n",
       "<table border=\"1\" class=\"dataframe\">\n",
       "  <thead>\n",
       "    <tr style=\"text-align: right;\">\n",
       "      <th></th>\n",
       "      <th>file</th>\n",
       "      <th>label</th>\n",
       "    </tr>\n",
       "  </thead>\n",
       "  <tbody>\n",
       "    <tr>\n",
       "      <th>0</th>\n",
       "      <td>image_1.png</td>\n",
       "      <td>A</td>\n",
       "    </tr>\n",
       "    <tr>\n",
       "      <th>1</th>\n",
       "      <td>image_2.png</td>\n",
       "      <td>A</td>\n",
       "    </tr>\n",
       "    <tr>\n",
       "      <th>2</th>\n",
       "      <td>image_3.png</td>\n",
       "      <td>A</td>\n",
       "    </tr>\n",
       "    <tr>\n",
       "      <th>3</th>\n",
       "      <td>image_4.png</td>\n",
       "      <td>A</td>\n",
       "    </tr>\n",
       "    <tr>\n",
       "      <th>4</th>\n",
       "      <td>image_5.png</td>\n",
       "      <td>A</td>\n",
       "    </tr>\n",
       "    <tr>\n",
       "      <th>...</th>\n",
       "      <td>...</td>\n",
       "      <td>...</td>\n",
       "    </tr>\n",
       "    <tr>\n",
       "      <th>372446</th>\n",
       "      <td>image_372447.png</td>\n",
       "      <td>Z</td>\n",
       "    </tr>\n",
       "    <tr>\n",
       "      <th>372447</th>\n",
       "      <td>image_372448.png</td>\n",
       "      <td>Z</td>\n",
       "    </tr>\n",
       "    <tr>\n",
       "      <th>372448</th>\n",
       "      <td>image_372449.png</td>\n",
       "      <td>Z</td>\n",
       "    </tr>\n",
       "    <tr>\n",
       "      <th>372449</th>\n",
       "      <td>image_372450.png</td>\n",
       "      <td>Z</td>\n",
       "    </tr>\n",
       "    <tr>\n",
       "      <th>372450</th>\n",
       "      <td>image_372451.png</td>\n",
       "      <td>Z</td>\n",
       "    </tr>\n",
       "  </tbody>\n",
       "</table>\n",
       "<p>372451 rows × 2 columns</p>\n",
       "</div>"
      ],
      "text/plain": [
       "                    file label\n",
       "0            image_1.png     A\n",
       "1            image_2.png     A\n",
       "2            image_3.png     A\n",
       "3            image_4.png     A\n",
       "4            image_5.png     A\n",
       "...                  ...   ...\n",
       "372446  image_372447.png     Z\n",
       "372447  image_372448.png     Z\n",
       "372448  image_372449.png     Z\n",
       "372449  image_372450.png     Z\n",
       "372450  image_372451.png     Z\n",
       "\n",
       "[372451 rows x 2 columns]"
      ]
     },
     "execution_count": 4,
     "metadata": {},
     "output_type": "execute_result"
    }
   ],
   "source": [
    "df"
   ]
  },
  {
   "cell_type": "code",
   "execution_count": 5,
   "id": "d32c0165-0b15-4b58-bba9-781e0d4431f9",
   "metadata": {},
   "outputs": [],
   "source": [
    "def split_dataframe_by_label(df):\n",
    "  \"\"\"\n",
    "  This function splits a dataframe containing labels (A-Z) into 26 dataframes.\n",
    "\n",
    "  Args:\n",
    "      df: A pandas dataframe with a column containing labels (A-Z). The dataframe\n",
    "          should have a shape of (372451, 2) with two columns.\n",
    "\n",
    "  Returns:\n",
    "      A list of 26 dataframes, each containing rows with a specific label (A-Z).\n",
    "  \"\"\"\n",
    "\n",
    "  # Extract the label column (assuming it's the second column)\n",
    "  labels = df.iloc[:, 1]\n",
    "\n",
    "  # Create a dictionary to store dataframes\n",
    "  label_dataframes = {}\n",
    "  for letter in range(ord('A'), ord('Z') + 1):  # Iterate through alphabets (A-Z)\n",
    "    label_dataframes[chr(letter)] = df[labels == chr(letter)]  # Filter rows by label\n",
    "\n",
    "  return list(label_dataframes.values())"
   ]
  },
  {
   "cell_type": "code",
   "execution_count": 6,
   "id": "f340126e-9d0e-485d-ac20-6e72f4303cd1",
   "metadata": {},
   "outputs": [],
   "source": [
    "separate_dfs = split_dataframe_by_label(df)"
   ]
  },
  {
   "cell_type": "code",
   "execution_count": 7,
   "id": "b89c2cea-a3d7-4bcd-ac98-c322e7e8617d",
   "metadata": {},
   "outputs": [
    {
     "data": {
      "text/plain": [
       "13870"
      ]
     },
     "execution_count": 7,
     "metadata": {},
     "output_type": "execute_result"
    }
   ],
   "source": [
    "len(separate_dfs[0])"
   ]
  },
  {
   "cell_type": "code",
   "execution_count": 8,
   "id": "305133cc-97b8-41f7-99c0-477182e349bb",
   "metadata": {},
   "outputs": [],
   "source": [
    "def filter_long_dataframes(dataframes):\n",
    "  \"\"\"\n",
    "  This function takes a list of DataFrames and returns a new list with DataFrames \n",
    "  having length less than or equal to 13000 rows.\n",
    "\n",
    "  Args:\n",
    "      dataframes: A list of pandas DataFrames.\n",
    "\n",
    "  Returns:\n",
    "      A list of pandas DataFrames with length less than or equal to 13000 rows.\n",
    "  \"\"\"\n",
    "  filtered_dataframes = []\n",
    "  for df in dataframes:\n",
    "    if len(df) > 13000:  \n",
    "      # Drop rows exceeding the threshold (exclusive)\n",
    "      filtered_df = df.iloc[:13000] \n",
    "    else:\n",
    "      filtered_df = df.copy()  # Keep original if length is within limit\n",
    "    filtered_dataframes.append(filtered_df)\n",
    "  return filtered_dataframes\n"
   ]
  },
  {
   "cell_type": "code",
   "execution_count": 9,
   "id": "40b0978b-de16-4d5b-8258-1599d3ac99d8",
   "metadata": {},
   "outputs": [],
   "source": [
    "separate_dfs = filter_long_dataframes(separate_dfs)"
   ]
  },
  {
   "cell_type": "code",
   "execution_count": 10,
   "id": "3e565b08-1bde-4bea-8a96-a9f47681cc48",
   "metadata": {},
   "outputs": [
    {
     "name": "stdout",
     "output_type": "stream",
     "text": [
      "No of Images of letter A is 13000\n",
      "No of Images of letter B is 8668\n",
      "No of Images of letter C is 13000\n",
      "No of Images of letter D is 10134\n",
      "No of Images of letter E is 11440\n",
      "No of Images of letter F is 1163\n",
      "No of Images of letter G is 5762\n",
      "No of Images of letter H is 7218\n",
      "No of Images of letter I is 1120\n",
      "No of Images of letter J is 8493\n",
      "No of Images of letter K is 5603\n",
      "No of Images of letter L is 11586\n",
      "No of Images of letter M is 12336\n",
      "No of Images of letter N is 13000\n",
      "No of Images of letter O is 13000\n",
      "No of Images of letter P is 13000\n",
      "No of Images of letter Q is 5812\n",
      "No of Images of letter R is 11566\n",
      "No of Images of letter S is 13000\n",
      "No of Images of letter T is 13000\n",
      "No of Images of letter U is 13000\n",
      "No of Images of letter V is 4182\n",
      "No of Images of letter W is 10784\n",
      "No of Images of letter X is 6272\n",
      "No of Images of letter Y is 10859\n",
      "No of Images of letter Z is 6076\n"
     ]
    }
   ],
   "source": [
    "keys = []\n",
    "values = []\n",
    "for i in range(26):\n",
    "    print(f\"No of Images of letter {chr(65+i)} is {len(separate_dfs[i])}\")\n",
    "    keys.append(chr(65+i))\n",
    "    values.append(len(separate_dfs[i]))\n",
    "letter_Count = dict(zip(keys,values))    "
   ]
  },
  {
   "cell_type": "code",
   "execution_count": 11,
   "id": "aec68f1b-c013-4474-b9b2-e083587b55b4",
   "metadata": {},
   "outputs": [
    {
     "data": {
      "text/plain": [
       "{'A': 13000,\n",
       " 'B': 8668,\n",
       " 'C': 13000,\n",
       " 'D': 10134,\n",
       " 'E': 11440,\n",
       " 'F': 1163,\n",
       " 'G': 5762,\n",
       " 'H': 7218,\n",
       " 'I': 1120,\n",
       " 'J': 8493,\n",
       " 'K': 5603,\n",
       " 'L': 11586,\n",
       " 'M': 12336,\n",
       " 'N': 13000,\n",
       " 'O': 13000,\n",
       " 'P': 13000,\n",
       " 'Q': 5812,\n",
       " 'R': 11566,\n",
       " 'S': 13000,\n",
       " 'T': 13000,\n",
       " 'U': 13000,\n",
       " 'V': 4182,\n",
       " 'W': 10784,\n",
       " 'X': 6272,\n",
       " 'Y': 10859,\n",
       " 'Z': 6076}"
      ]
     },
     "execution_count": 11,
     "metadata": {},
     "output_type": "execute_result"
    }
   ],
   "source": [
    "letter_Count"
   ]
  },
  {
   "cell_type": "code",
   "execution_count": 12,
   "id": "a1d74118-e940-4b3f-9791-e18d0a31c931",
   "metadata": {},
   "outputs": [],
   "source": [
    "lis = []\n",
    "for i in range(26):\n",
    "    l = list(separate_dfs[i].file)\n",
    "    lis.append(l)"
   ]
  },
  {
   "cell_type": "code",
   "execution_count": 13,
   "id": "33b12c8f-b04a-4e93-b806-9e242ee5beaa",
   "metadata": {},
   "outputs": [],
   "source": [
    "import cv2\n",
    "\n",
    "\n",
    "def read_images_from_list_batched_resize_m2(filenames, folder_path, target_size=(28, 28), batch_size=4000):\n",
    "  \"\"\"\n",
    "  This function reads images from a list of filenames and a folder path in batches,\n",
    "  resizing them to a target size and storing them as NumPy arrays in a list.\n",
    "\n",
    "  Args:\n",
    "      filenames: A list of filenames for the images.\n",
    "      folder_path: The path to the folder containing the images.\n",
    "      target_size: A tuple representing the desired output size (width, height, channels) (default: (28, 28, 3)).\n",
    "      batch_size: The number of images to read in each batch (default: 4000).\n",
    "\n",
    "  Returns:\n",
    "      A list containing the resized images as NumPy arrays.\n",
    "  \"\"\"\n",
    "\n",
    "  images = []\n",
    "  for i in range(0, len(filenames), batch_size):\n",
    "    # Get a batch of filenames\n",
    "    batch_filenames = filenames[i:i+batch_size]\n",
    "\n",
    "    # Process the batch\n",
    "    batch_images = []\n",
    "    for filename in batch_filenames:\n",
    "      # Construct the full path for the image\n",
    "      filepath = os.path.join(folder_path, filename)\n",
    "      # Read the image in color (adjust if needed)\n",
    "      try:\n",
    "        image = cv2.imread(filepath)  # Or adjust for mode\n",
    "        if image is not None:\n",
    "          # Resize the image to target size using interpolation\n",
    "          resized_image = cv2.resize(image, dsize=target_size, interpolation=cv2.INTER_AREA)\n",
    "          batch_images.append(resized_image)  \n",
    "        else:\n",
    "          print(f\"Error: Could not read image - {filepath}\")\n",
    "      except (FileNotFoundError, cv2.error):\n",
    "        print(f\"Error: File not found or invalid image - {filepath}\")\n",
    "\n",
    "    # Append the processed batch to the main list\n",
    "    images.extend(batch_images)\n",
    "\n",
    "  return images\n"
   ]
  },
  {
   "cell_type": "code",
   "execution_count": 14,
   "id": "14c6c696-e44f-4f8d-8b49-098c842578de",
   "metadata": {},
   "outputs": [],
   "source": [
    "images_A = read_images_from_list_batched_resize_m2(lis[0],'data/alphabet_images')"
   ]
  },
  {
   "cell_type": "code",
   "execution_count": 15,
   "id": "5c015c7f-b957-4f9c-9df7-b984b005550d",
   "metadata": {},
   "outputs": [
    {
     "data": {
      "text/plain": [
       "<matplotlib.image.AxesImage at 0x1c58bd38c90>"
      ]
     },
     "execution_count": 15,
     "metadata": {},
     "output_type": "execute_result"
    },
    {
     "data": {
      "image/png": "[encoded data removed]",
      "text/plain": [
       "<Figure size 640x480 with 1 Axes>"
      ]
     },
     "metadata": {},
     "output_type": "display_data"
    }
   ],
   "source": [
    "plt.imshow(images_A[0])"
   ]
  },
  {
   "cell_type": "code",
   "execution_count": 16,
   "id": "93bca974-993e-4630-965d-6dd6c523842d",
   "metadata": {},
   "outputs": [
    {
     "name": "stdout",
     "output_type": "stream",
     "text": [
      "Error: Could not read image - data/alphabet_images\\image_21694.png\n"
     ]
    }
   ],
   "source": [
    "images_B = read_images_from_list_batched_resize_m2(lis[1],'data/alphabet_images')"
   ]
  },
  {
   "cell_type": "code",
   "execution_count": 17,
   "id": "9d81b661-3d4c-4d57-b328-551121980bc4",
   "metadata": {},
   "outputs": [
    {
     "name": "stdout",
     "output_type": "stream",
     "text": [
      "Error: Could not read image - data/alphabet_images\\image_29881.png\n"
     ]
    }
   ],
   "source": [
    "images_C = read_images_from_list_batched_resize_m2(lis[2],'data/alphabet_images')"
   ]
  },
  {
   "cell_type": "code",
   "execution_count": 18,
   "id": "ca3ffa14-db43-42a5-9bc4-495cf4c6d80b",
   "metadata": {},
   "outputs": [
    {
     "name": "stdout",
     "output_type": "stream",
     "text": [
      "Error: Could not read image - data/alphabet_images\\image_52963.png\n"
     ]
    }
   ],
   "source": [
    "images_D = read_images_from_list_batched_resize_m2(lis[3],'data/alphabet_images')"
   ]
  },
  {
   "cell_type": "code",
   "execution_count": 19,
   "id": "a97d76fd-2ec0-46bd-a8a1-d55bac87c17d",
   "metadata": {},
   "outputs": [],
   "source": [
    "images_E = read_images_from_list_batched_resize_m2(lis[4],'data/alphabet_images')"
   ]
  },
  {
   "cell_type": "code",
   "execution_count": 20,
   "id": "6fc28656-cdaa-449f-b916-d19b44985e1f",
   "metadata": {},
   "outputs": [
    {
     "name": "stdout",
     "output_type": "stream",
     "text": [
      "Error: Could not read image - data/alphabet_images\\image_67913.png\n"
     ]
    }
   ],
   "source": [
    "images_F = read_images_from_list_batched_resize_m2(lis[5],'data/alphabet_images')"
   ]
  },
  {
   "cell_type": "code",
   "execution_count": 21,
   "id": "1513fd62-7323-417c-aa79-cec7dd9b611a",
   "metadata": {},
   "outputs": [],
   "source": [
    "images_G = read_images_from_list_batched_resize_m2(lis[6],'data/alphabet_images')"
   ]
  },
  {
   "cell_type": "code",
   "execution_count": 22,
   "id": "59578299-4109-4231-9117-c369c4f2c035",
   "metadata": {},
   "outputs": [],
   "source": [
    "images_H = read_images_from_list_batched_resize_m2(lis[7],'data/alphabet_images')"
   ]
  },
  {
   "cell_type": "code",
   "execution_count": 23,
   "id": "f96278cc-0701-42fc-93d6-43e7d02aa05c",
   "metadata": {},
   "outputs": [],
   "source": [
    "images_I = read_images_from_list_batched_resize_m2(lis[8],'data/alphabet_images')"
   ]
  },
  {
   "cell_type": "code",
   "execution_count": 24,
   "id": "aee26916-b6ea-4182-b832-f62e621a1e0a",
   "metadata": {},
   "outputs": [],
   "source": [
    "images_J = read_images_from_list_batched_resize_m2(lis[9],'data/alphabet_images')"
   ]
  },
  {
   "cell_type": "code",
   "execution_count": 25,
   "id": "8c2e358f-2b78-4562-8866-59022b48866c",
   "metadata": {},
   "outputs": [
    {
     "name": "stdout",
     "output_type": "stream",
     "text": [
      "Error: Could not read image - data/alphabet_images\\image_91388.png\n",
      "Error: Could not read image - data/alphabet_images\\image_94883.png\n",
      "Error: Could not read image - data/alphabet_images\\image_96653.png\n"
     ]
    }
   ],
   "source": [
    "images_K = read_images_from_list_batched_resize_m2(lis[10],'data/alphabet_images')"
   ]
  },
  {
   "cell_type": "code",
   "execution_count": 26,
   "id": "1d0b401a-5e4b-4d32-afd8-8e8cecca45d2",
   "metadata": {},
   "outputs": [
    {
     "name": "stdout",
     "output_type": "stream",
     "text": [
      "Error: Could not read image - data/alphabet_images\\image_100563.png\n",
      "Error: Could not read image - data/alphabet_images\\image_106632.png\n"
     ]
    }
   ],
   "source": [
    "images_L = read_images_from_list_batched_resize_m2(lis[11],'data/alphabet_images')"
   ]
  },
  {
   "cell_type": "code",
   "execution_count": 27,
   "id": "532b7ac5-0bb6-477e-bd7b-5bf5e44d7fb9",
   "metadata": {},
   "outputs": [
    {
     "name": "stdout",
     "output_type": "stream",
     "text": [
      "Error: Could not read image - data/alphabet_images\\image_109239.png\n",
      "Error: Could not read image - data/alphabet_images\\image_114051.png\n"
     ]
    }
   ],
   "source": [
    "images_M = read_images_from_list_batched_resize_m2(lis[12],'data/alphabet_images')"
   ]
  },
  {
   "cell_type": "code",
   "execution_count": 28,
   "id": "c109b295-0866-4c8b-b70e-4a5e23ccc55f",
   "metadata": {},
   "outputs": [
    {
     "name": "stdout",
     "output_type": "stream",
     "text": [
      "Error: Could not read image - data/alphabet_images\\image_122177.png\n"
     ]
    }
   ],
   "source": [
    "images_N = read_images_from_list_batched_resize_m2(lis[13],'data/alphabet_images')"
   ]
  },
  {
   "cell_type": "code",
   "execution_count": 29,
   "id": "651706e3-8635-4bd6-abc3-6633819471f0",
   "metadata": {},
   "outputs": [],
   "source": [
    "images_O = read_images_from_list_batched_resize_m2(lis[14],'data/alphabet_images')"
   ]
  },
  {
   "cell_type": "code",
   "execution_count": 30,
   "id": "86fb48f6-e82c-4dc6-a176-b18624635565",
   "metadata": {},
   "outputs": [],
   "source": [
    "images_P = read_images_from_list_batched_resize_m2(lis[15],'data/alphabet_images')"
   ]
  },
  {
   "cell_type": "code",
   "execution_count": 31,
   "id": "836fa239-064d-464f-876a-90f406a13867",
   "metadata": {},
   "outputs": [
    {
     "name": "stdout",
     "output_type": "stream",
     "text": [
      "Error: Could not read image - data/alphabet_images\\image_218155.png\n"
     ]
    }
   ],
   "source": [
    "images_Q = read_images_from_list_batched_resize_m2(lis[16],'data/alphabet_images')"
   ]
  },
  {
   "cell_type": "code",
   "execution_count": 32,
   "id": "6569e363-226f-4863-8de3-18d4d7b0e8c7",
   "metadata": {},
   "outputs": [
    {
     "name": "stdout",
     "output_type": "stream",
     "text": [
      "Error: Could not read image - data/alphabet_images\\image_223189.png\n",
      "Error: Could not read image - data/alphabet_images\\image_230161.png\n"
     ]
    }
   ],
   "source": [
    "images_R = read_images_from_list_batched_resize_m2(lis[17],'data/alphabet_images')"
   ]
  },
  {
   "cell_type": "code",
   "execution_count": 33,
   "id": "f6073a74-6a28-48ed-acc7-b2c885915cec",
   "metadata": {},
   "outputs": [
    {
     "name": "stdout",
     "output_type": "stream",
     "text": [
      "Error: Could not read image - data/alphabet_images\\image_243673.png\n",
      "Error: Could not read image - data/alphabet_images\\image_244942.png\n"
     ]
    }
   ],
   "source": [
    "images_S = read_images_from_list_batched_resize_m2(lis[18],'data/alphabet_images')"
   ]
  },
  {
   "cell_type": "code",
   "execution_count": 34,
   "id": "3660369d-b55e-45c3-b346-2b621162e6f4",
   "metadata": {},
   "outputs": [
    {
     "name": "stdout",
     "output_type": "stream",
     "text": [
      "Error: Could not read image - data/alphabet_images\\image_284458.png\n",
      "Error: Could not read image - data/alphabet_images\\image_289076.png\n"
     ]
    }
   ],
   "source": [
    "images_T = read_images_from_list_batched_resize_m2(lis[19],'data/alphabet_images')"
   ]
  },
  {
   "cell_type": "code",
   "execution_count": 35,
   "id": "12b09349-e757-4300-8608-5647ad3086f8",
   "metadata": {},
   "outputs": [
    {
     "name": "stdout",
     "output_type": "stream",
     "text": [
      "Error: Could not read image - data/alphabet_images\\image_308895.png\n",
      "Error: Could not read image - data/alphabet_images\\image_311005.png\n",
      "Error: Could not read image - data/alphabet_images\\image_311324.png\n"
     ]
    }
   ],
   "source": [
    "images_U = read_images_from_list_batched_resize_m2(lis[20],'data/alphabet_images')"
   ]
  },
  {
   "cell_type": "code",
   "execution_count": 36,
   "id": "48a27a07-bec3-4e64-8a8a-69adc8f785c6",
   "metadata": {},
   "outputs": [],
   "source": [
    "images_V = read_images_from_list_batched_resize_m2(lis[21],'data/alphabet_images')"
   ]
  },
  {
   "cell_type": "code",
   "execution_count": 37,
   "id": "256dbb8e-9322-4941-b0d3-2d3b8312c6fe",
   "metadata": {},
   "outputs": [],
   "source": [
    "images_W = read_images_from_list_batched_resize_m2(lis[22],'data/alphabet_images')"
   ]
  },
  {
   "cell_type": "code",
   "execution_count": 38,
   "id": "6b16bf66-56e0-49ed-ae5b-7a4341113ca4",
   "metadata": {},
   "outputs": [],
   "source": [
    "images_X = read_images_from_list_batched_resize_m2(lis[23],'data/alphabet_images')"
   ]
  },
  {
   "cell_type": "code",
   "execution_count": 39,
   "id": "fa7c187e-2395-4d2a-9583-cbffeef8ad18",
   "metadata": {},
   "outputs": [
    {
     "name": "stdout",
     "output_type": "stream",
     "text": [
      "Error: Could not read image - data/alphabet_images\\image_365580.png\n"
     ]
    }
   ],
   "source": [
    "images_Y = read_images_from_list_batched_resize_m2(lis[24],'data/alphabet_images')"
   ]
  },
  {
   "cell_type": "code",
   "execution_count": 40,
   "id": "c3e4c4ef-5574-4369-a342-40f24c01fa09",
   "metadata": {},
   "outputs": [],
   "source": [
    "images_Z = read_images_from_list_batched_resize_m2(lis[25],'data/alphabet_images')"
   ]
  },
  {
   "cell_type": "code",
   "execution_count": 41,
   "id": "a4fa2225-ad24-465f-a0ed-14a05412da35",
   "metadata": {},
   "outputs": [],
   "source": [
    "Images_x = [images_A,images_B,images_C,images_D,images_E,images_F,images_G,images_H,images_I,images_J,images_K,images_L,images_M,images_N,images_O,images_P,images_Q,images_R,images_S,images_T,images_U,images_V,images_W,images_X,images_Y,images_Z]"
   ]
  },
  {
   "cell_type": "code",
   "execution_count": 42,
   "id": "f0272b5e-36fe-4363-a675-715fc7aa5654",
   "metadata": {},
   "outputs": [],
   "source": [
    "import numpy as np\n",
    "\n",
    "def list_to_nd_array(Images_x):\n",
    "  \"\"\"\n",
    "  This function converts a list of sublists representing images into a NumPy array.\n",
    "\n",
    "  Args:\n",
    "      Images_x: A list containing 26 sublists, where each sublist represents images for a letter (A-Z).\n",
    "\n",
    "  Returns:\n",
    "      A NumPy array of shape (total_images, height, width, channels), where:\n",
    "          - total_images: The total number of images across all sublists.\n",
    "          - height: The height of the images (assuming all images have the same height).\n",
    "          - width: The width of the images (assuming all images have the same width).\n",
    "          - channels: The number of color channels in the images (assuming all images have the same number of channels).\n",
    "  \"\"\"\n",
    "\n",
    "  # Calculate the total number of images\n",
    "  total_images = sum(len(sublist) for sublist in Images_x)\n",
    "\n",
    "  # Check if all sublists have images (avoid empty array creation)\n",
    "  if not total_images:\n",
    "    raise ValueError(\"Input list contains no images (all sublists are empty).\")\n",
    "\n",
    "  # Get the dimensions (height, width, channels) from the first non-empty sublist\n",
    "  # (assuming all images have the same dimensions)\n",
    "  first_non_empty_sublist = next(sublist for sublist in Images_x if sublist)\n",
    "  image_shape = np.shape(first_non_empty_sublist[0])  # Assuming first element is an image\n",
    "  height, width, channels = image_shape\n",
    "\n",
    "  # Create the NumPy array\n",
    "  data_array = np.empty((total_images, height, width, channels), dtype=first_non_empty_sublist[0].dtype)\n",
    "\n",
    "  # Fill the array with images from each sublist\n",
    "  current_index = 0\n",
    "  for sublist in Images_x:\n",
    "    for image in sublist:\n",
    "      data_array[current_index] = image\n",
    "      current_index += 1\n",
    "\n",
    "  return data_array\n",
    "\n"
   ]
  },
  {
   "cell_type": "code",
   "execution_count": 43,
   "id": "598c8e04-0a46-4e65-91d8-458e804bb7f6",
   "metadata": {},
   "outputs": [],
   "source": [
    "data = list_to_nd_array(Images_x)"
   ]
  },
  {
   "cell_type": "code",
   "execution_count": 44,
   "id": "94d55778-daef-4259-a011-230df0646ea3",
   "metadata": {},
   "outputs": [
    {
     "data": {
      "text/plain": [
       "(243051, 28, 28, 3)"
      ]
     },
     "execution_count": 44,
     "metadata": {},
     "output_type": "execute_result"
    }
   ],
   "source": [
    "data.shape"
   ]
  },
  {
   "cell_type": "code",
   "execution_count": 45,
   "id": "6db5ec7f-30d2-4c1e-94bc-689ccf0cb7e9",
   "metadata": {},
   "outputs": [],
   "source": [
    "y = []\n",
    "for i in range(26):\n",
    "    for j in range(len(Images_x[i])):\n",
    "        y.append(i)"
   ]
  },
  {
   "cell_type": "code",
   "execution_count": 46,
   "id": "21817682-5428-4160-8f52-f3a2b3c90131",
   "metadata": {},
   "outputs": [],
   "source": [
    "y_np = np.array(y)"
   ]
  },
  {
   "cell_type": "code",
   "execution_count": 47,
   "id": "8c235db2-a931-4b19-a555-9f8723a82c45",
   "metadata": {},
   "outputs": [
    {
     "data": {
      "text/plain": [
       "(243051,)"
      ]
     },
     "execution_count": 47,
     "metadata": {},
     "output_type": "execute_result"
    }
   ],
   "source": [
    "y_np.shape"
   ]
  },
  {
   "cell_type": "code",
   "execution_count": 61,
   "id": "9050f46e-9274-41f1-a315-7074c38eb3ea",
   "metadata": {},
   "outputs": [
    {
     "data": {
      "text/plain": [
       "0"
      ]
     },
     "execution_count": 61,
     "metadata": {},
     "output_type": "execute_result"
    }
   ],
   "source": [
    "y[0]"
   ]
  },
  {
   "cell_type": "code",
   "execution_count": 65,
   "id": "780627de-8d0b-4b9e-92bf-c8e179d15517",
   "metadata": {},
   "outputs": [],
   "source": [
    "# Split data and labels together using train_test_split \n",
    "X_train, X_test_val, y_train, y_test_val = train_test_split(data, y_np, test_size=0.3, random_state=42,shuffle=False)\n",
    "test_val_split = 0.5\n",
    "X_test, X_val, y_test, y_val = train_test_split(X_test_val, y_test_val, test_size=test_val_split, random_state=42,shuffle=False)"
   ]
  },
  {
   "cell_type": "code",
   "execution_count": 66,
   "id": "33f66344-fb86-4307-823c-258435479c99",
   "metadata": {},
   "outputs": [
    {
     "data": {
      "text/plain": [
       "(170135, 28, 28, 3)"
      ]
     },
     "execution_count": 66,
     "metadata": {},
     "output_type": "execute_result"
    }
   ],
   "source": [
    "X_train.shape"
   ]
  },
  {
   "cell_type": "code",
   "execution_count": 67,
   "id": "4f57c44b-312e-4b6c-bc82-375f5de83255",
   "metadata": {},
   "outputs": [
    {
     "data": {
      "text/plain": [
       "(36458, 28, 28, 3)"
      ]
     },
     "execution_count": 67,
     "metadata": {},
     "output_type": "execute_result"
    }
   ],
   "source": [
    "X_test.shape"
   ]
  },
  {
   "cell_type": "code",
   "execution_count": 68,
   "id": "06c1cb42-1050-4b7f-9b4f-f6d5286384bf",
   "metadata": {},
   "outputs": [
    {
     "data": {
      "text/plain": [
       "(36458, 28, 28, 3)"
      ]
     },
     "execution_count": 68,
     "metadata": {},
     "output_type": "execute_result"
    }
   ],
   "source": [
    "X_val.shape"
   ]
  },
  {
   "cell_type": "code",
   "execution_count": 69,
   "id": "4a6985e0-8489-49db-bb90-e38ddfde1e99",
   "metadata": {},
   "outputs": [
    {
     "data": {
      "text/plain": [
       "(170135,)"
      ]
     },
     "execution_count": 69,
     "metadata": {},
     "output_type": "execute_result"
    }
   ],
   "source": [
    "y_train.shape"
   ]
  },
  {
   "cell_type": "code",
   "execution_count": null,
   "id": "c7147357-de1f-4a3a-8fe7-9417ec59ff20",
   "metadata": {},
   "outputs": [],
   "source": []
  },
  {
   "cell_type": "code",
   "execution_count": 71,
   "id": "ef7d2cbe-c3de-49fe-9d4d-8e9ddf64f6dd",
   "metadata": {},
   "outputs": [],
   "source": [
    "#Callbacks\n",
    "es = EarlyStopping(monitor='val_loss', mode='min', verbose=1, patience=3, min_delta=0.001) \n",
    "mc = ModelCheckpoint('Models/7_7_24/Callback Models/Simplistic Model/best_model_2.keras', monitor='val_accuracy', verbose=1, save_best_only=True, mode='max')\n",
    "callbacks_list = [es,mc]"
   ]
  },
  {
   "cell_type": "code",
   "execution_count": 72,
   "id": "ceb09963-4973-493a-849a-d703ab94e72a",
   "metadata": {},
   "outputs": [],
   "source": [
    "import tensorflow as tf\n",
    "\n",
    "# Assuming train_X and y_train are your training data and labels\n",
    "\n",
    "model = tf.keras.models.Sequential()\n",
    "model.add(tf.keras.layers.Conv2D(32, kernel_size=(3, 3), activation='relu', input_shape=(28, 28, 3)))  # Convolutional layer\n",
    "model.add(tf.keras.layers.MaxPooling2D((2, 2)))  # Optional: Pooling layer for dimensionality reduction\n",
    "model.add(tf.keras.layers.Flatten())  # Flatten layer to prepare for dense layers\n",
    "model.add(tf.keras.layers.Dense(128, activation='relu'))\n",
    "model.add(tf.keras.layers.Dense(128, activation='relu'))\n",
    "model.add(tf.keras.layers.Dropout(0.15, name='layers_dropout'))\n",
    "model.add(tf.keras.layers.Dense(26, activation='softmax'))  # 26 output units for 26 classes\n",
    "\n",
    "model.compile(optimizer='adam', loss='sparse_categorical_crossentropy', metrics=['accuracy'])\n"
   ]
  },
  {
   "cell_type": "code",
   "execution_count": 73,
   "id": "c7e81601-e2a1-4b82-83f0-811a3cb86e08",
   "metadata": {},
   "outputs": [],
   "source": [
    "from keras.utils import normalize"
   ]
  },
  {
   "cell_type": "code",
   "execution_count": 74,
   "id": "ab5d2284-60d8-4a03-addd-3d45634cd28c",
   "metadata": {},
   "outputs": [],
   "source": [
    "X_train_n = normalize(X_train)\n",
    "X_test_n = normalize(X_test)"
   ]
  },
  {
   "cell_type": "code",
   "execution_count": 75,
   "id": "d27baab3-b265-47b0-ad06-09657928702f",
   "metadata": {},
   "outputs": [
    {
     "name": "stdout",
     "output_type": "stream",
     "text": [
      "Epoch 1/15\n",
      "\u001b[1m5315/5317\u001b[0m \u001b[32m━━━━━━━━━━━━━━━━━━━\u001b[0m\u001b[37m━\u001b[0m \u001b[1m0s\u001b[0m 15ms/step - accuracy: 0.8372 - loss: 0.5323\n",
      "Epoch 1: val_accuracy improved from -inf to 0.20805, saving model to Models/7_7_24/Callback Models/Simplistic Model/best_model_2.keras\n",
      "\u001b[1m5317/5317\u001b[0m \u001b[32m━━━━━━━━━━━━━━━━━━━━\u001b[0m\u001b[37m\u001b[0m \u001b[1m91s\u001b[0m 17ms/step - accuracy: 0.8372 - loss: 0.5322 - val_accuracy: 0.2080 - val_loss: 15.4730\n",
      "Epoch 2/15\n",
      "\u001b[1m5316/5317\u001b[0m \u001b[32m━━━━━━━━━━━━━━━━━━━\u001b[0m\u001b[37m━\u001b[0m \u001b[1m0s\u001b[0m 18ms/step - accuracy: 0.9533 - loss: 0.1511\n",
      "Epoch 2: val_accuracy improved from 0.20805 to 0.22626, saving model to Models/7_7_24/Callback Models/Simplistic Model/best_model_2.keras\n",
      "\u001b[1m5317/5317\u001b[0m \u001b[32m━━━━━━━━━━━━━━━━━━━━\u001b[0m\u001b[37m\u001b[0m \u001b[1m104s\u001b[0m 20ms/step - accuracy: 0.9533 - loss: 0.1511 - val_accuracy: 0.2263 - val_loss: 20.3610\n",
      "Epoch 3/15\n",
      "\u001b[1m5313/5317\u001b[0m \u001b[32m━━━━━━━━━━━━━━━━━━━\u001b[0m\u001b[37m━\u001b[0m \u001b[1m0s\u001b[0m 18ms/step - accuracy: 0.9665 - loss: 0.1050\n",
      "Epoch 3: val_accuracy did not improve from 0.22626\n",
      "\u001b[1m5317/5317\u001b[0m \u001b[32m━━━━━━━━━━━━━━━━━━━━\u001b[0m\u001b[37m\u001b[0m \u001b[1m142s\u001b[0m 20ms/step - accuracy: 0.9665 - loss: 0.1050 - val_accuracy: 0.2209 - val_loss: 21.9812\n",
      "Epoch 4/15\n",
      "\u001b[1m5316/5317\u001b[0m \u001b[32m━━━━━━━━━━━━━━━━━━━\u001b[0m\u001b[37m━\u001b[0m \u001b[1m0s\u001b[0m 18ms/step - accuracy: 0.9757 - loss: 0.0762\n",
      "Epoch 4: val_accuracy improved from 0.22626 to 0.22769, saving model to Models/7_7_24/Callback Models/Simplistic Model/best_model_2.keras\n",
      "\u001b[1m5317/5317\u001b[0m \u001b[32m━━━━━━━━━━━━━━━━━━━━\u001b[0m\u001b[37m\u001b[0m \u001b[1m140s\u001b[0m 19ms/step - accuracy: 0.9757 - loss: 0.0762 - val_accuracy: 0.2277 - val_loss: 25.5957\n",
      "Epoch 4: early stopping\n"
     ]
    }
   ],
   "source": [
    "history = model.fit(X_train_n, y_train, epochs=15, callbacks = callbacks_list , validation_data = (X_test_n,y_test))"
   ]
  },
  {
   "cell_type": "code",
   "execution_count": 76,
   "id": "fce8738e-3bfe-46da-a85a-5f6572e68e12",
   "metadata": {},
   "outputs": [
    {
     "data": {
      "image/png": "[encoded data removed]",
      "text/plain": [
       "<Figure size 600x600 with 1 Axes>"
      ]
     },
     "metadata": {},
     "output_type": "display_data"
    }
   ],
   "source": [
    "plt.figure(figsize = (6,6))\n",
    "plt.plot(history.history['loss'], label='train')\n",
    "plt.plot(history.history['val_loss'], label='test')\n",
    "plt.legend()\n",
    "plt.title(\"Model Loss\")\n",
    "plt.show()"
   ]
  },
  {
   "cell_type": "code",
   "execution_count": 77,
   "id": "8b421961-abdf-4dbd-beb8-ee5c62eb4bdc",
   "metadata": {},
   "outputs": [],
   "source": [
    "img = cv2.imread(\"Charecters_from_target/Words_from_line_1/1_word_0_letter_1__.jpg\")"
   ]
  },
  {
   "cell_type": "code",
   "execution_count": 78,
   "id": "53ca647a-85a1-4c94-935f-86111afb8c0e",
   "metadata": {},
   "outputs": [
    {
     "data": {
      "text/plain": [
       "<matplotlib.image.AxesImage at 0x1c63108b7d0>"
      ]
     },
     "execution_count": 78,
     "metadata": {},
     "output_type": "execute_result"
    },
    {
     "data": {
      "image/png": "[encoded data removed]",
      "text/plain": [
       "<Figure size 640x480 with 1 Axes>"
      ]
     },
     "metadata": {},
     "output_type": "display_data"
    }
   ],
   "source": [
    "plt.imshow(img)"
   ]
  },
  {
   "cell_type": "code",
   "execution_count": 79,
   "id": "78645699-643a-411f-9aad-36f938b7553a",
   "metadata": {},
   "outputs": [
    {
     "name": "stdout",
     "output_type": "stream",
     "text": [
      "\u001b[1m1/1\u001b[0m \u001b[32m━━━━━━━━━━━━━━━━━━━━\u001b[0m\u001b[37m\u001b[0m \u001b[1m0s\u001b[0m 131ms/step\n"
     ]
    },
    {
     "data": {
      "text/plain": [
       "array([[0., 0., 0., 0., 0., 0., 0., 0., 0., 0., 0., 0., 0., 1., 0., 0.,\n",
       "        0., 0., 0., 0., 0., 0., 0., 0., 0., 0.]], dtype=float32)"
      ]
     },
     "execution_count": 79,
     "metadata": {},
     "output_type": "execute_result"
    }
   ],
   "source": [
    "img_copy = np.expand_dims(img,axis=0)\n",
    "model.predict(img_copy)"
   ]
  },
  {
   "cell_type": "code",
   "execution_count": 80,
   "id": "4b877fe4-7e96-4d3e-973f-9080545fbdfc",
   "metadata": {},
   "outputs": [
    {
     "name": "stdout",
     "output_type": "stream",
     "text": [
      "\u001b[1m1/1\u001b[0m \u001b[32m━━━━━━━━━━━━━━━━━━━━\u001b[0m\u001b[37m\u001b[0m \u001b[1m0s\u001b[0m 31ms/step\n",
      "N\n"
     ]
    }
   ],
   "source": [
    "print(chr(65+np.argmax(model.predict(img_copy))))"
   ]
  },
  {
   "cell_type": "code",
   "execution_count": 81,
   "id": "5662bbc8-51fe-4d8b-82cd-8ca83758cc28",
   "metadata": {},
   "outputs": [],
   "source": [
    "def load_images_from_folder(folder_path):\n",
    "  \"\"\"\n",
    "  This function loads all images from a folder and saves them in a list.\n",
    "\n",
    "  Args:\n",
    "      folder_path (str): The path to the folder containing the images.\n",
    "\n",
    "  Returns:\n",
    "      list: A list containing the loaded images as OpenCV image arrays.\n",
    "  \"\"\"\n",
    "\n",
    "  images = []\n",
    "  for filename in os.listdir(folder_path):\n",
    "    # Check if the file is an image\n",
    "    if filename.lower().endswith((\".jpg\", \".jpeg\", \".png\")):\n",
    "      # Get the full path of the image\n",
    "      image_path = os.path.join(folder_path, filename)\n",
    "      # Load the image using cv2.imread\n",
    "      image = cv2.imread(image_path)\n",
    "      \n",
    "      # Check if image loading is successful\n",
    "      if image is not None:\n",
    "        images.append(image)\n",
    "      else:\n",
    "        print(f\"Error loading image: {filename}\")\n",
    "\n",
    "  return images"
   ]
  },
  {
   "cell_type": "code",
   "execution_count": 82,
   "id": "6f0db841-76e7-4623-8f64-2229d9cd1414",
   "metadata": {},
   "outputs": [],
   "source": [
    "img_list = load_images_from_folder('Charecters_from_target/Words_from_line_1')"
   ]
  },
  {
   "cell_type": "code",
   "execution_count": 83,
   "id": "ad410ef7-f128-420e-8b4d-b8e51cddd31c",
   "metadata": {},
   "outputs": [],
   "source": [
    "def predict_list(images,model):\n",
    "    string = \"\"\n",
    "    for i in range(len(img_list)):\n",
    "        img_copy = img_list[i].copy()\n",
    "        img_copy = np.expand_dims(img_copy,axis=0)\n",
    "        char = chr(65+np.argmax(model.predict(img_copy)))\n",
    "        string = string + char\n",
    "    return string    "
   ]
  },
  {
   "cell_type": "code",
   "execution_count": 84,
   "id": "ff6a7b17-8881-472a-96e0-2c978adf1a4d",
   "metadata": {},
   "outputs": [
    {
     "name": "stdout",
     "output_type": "stream",
     "text": [
      "\u001b[1m1/1\u001b[0m \u001b[32m━━━━━━━━━━━━━━━━━━━━\u001b[0m\u001b[37m\u001b[0m \u001b[1m0s\u001b[0m 33ms/step\n",
      "\u001b[1m1/1\u001b[0m \u001b[32m━━━━━━━━━━━━━━━━━━━━\u001b[0m\u001b[37m\u001b[0m \u001b[1m0s\u001b[0m 41ms/step\n",
      "\u001b[1m1/1\u001b[0m \u001b[32m━━━━━━━━━━━━━━━━━━━━\u001b[0m\u001b[37m\u001b[0m \u001b[1m0s\u001b[0m 18ms/step\n",
      "\u001b[1m1/1\u001b[0m \u001b[32m━━━━━━━━━━━━━━━━━━━━\u001b[0m\u001b[37m\u001b[0m \u001b[1m0s\u001b[0m 31ms/step\n",
      "\u001b[1m1/1\u001b[0m \u001b[32m━━━━━━━━━━━━━━━━━━━━\u001b[0m\u001b[37m\u001b[0m \u001b[1m0s\u001b[0m 49ms/step\n",
      "\u001b[1m1/1\u001b[0m \u001b[32m━━━━━━━━━━━━━━━━━━━━\u001b[0m\u001b[37m\u001b[0m \u001b[1m0s\u001b[0m 31ms/step\n",
      "\u001b[1m1/1\u001b[0m \u001b[32m━━━━━━━━━━━━━━━━━━━━\u001b[0m\u001b[37m\u001b[0m \u001b[1m0s\u001b[0m 32ms/step\n",
      "\u001b[1m1/1\u001b[0m \u001b[32m━━━━━━━━━━━━━━━━━━━━\u001b[0m\u001b[37m\u001b[0m \u001b[1m0s\u001b[0m 47ms/step\n",
      "\u001b[1m1/1\u001b[0m \u001b[32m━━━━━━━━━━━━━━━━━━━━\u001b[0m\u001b[37m\u001b[0m \u001b[1m0s\u001b[0m 47ms/step\n",
      "\u001b[1m1/1\u001b[0m \u001b[32m━━━━━━━━━━━━━━━━━━━━\u001b[0m\u001b[37m\u001b[0m \u001b[1m0s\u001b[0m 31ms/step\n",
      "\u001b[1m1/1\u001b[0m \u001b[32m━━━━━━━━━━━━━━━━━━━━\u001b[0m\u001b[37m\u001b[0m \u001b[1m0s\u001b[0m 35ms/step\n",
      "\u001b[1m1/1\u001b[0m \u001b[32m━━━━━━━━━━━━━━━━━━━━\u001b[0m\u001b[37m\u001b[0m \u001b[1m0s\u001b[0m 35ms/step\n",
      "\u001b[1m1/1\u001b[0m \u001b[32m━━━━━━━━━━━━━━━━━━━━\u001b[0m\u001b[37m\u001b[0m \u001b[1m0s\u001b[0m 47ms/step\n",
      "\u001b[1m1/1\u001b[0m \u001b[32m━━━━━━━━━━━━━━━━━━━━\u001b[0m\u001b[37m\u001b[0m \u001b[1m0s\u001b[0m 36ms/step\n",
      "\u001b[1m1/1\u001b[0m \u001b[32m━━━━━━━━━━━━━━━━━━━━\u001b[0m\u001b[37m\u001b[0m \u001b[1m0s\u001b[0m 37ms/step\n",
      "\u001b[1m1/1\u001b[0m \u001b[32m━━━━━━━━━━━━━━━━━━━━\u001b[0m\u001b[37m\u001b[0m \u001b[1m0s\u001b[0m 34ms/step\n",
      "\u001b[1m1/1\u001b[0m \u001b[32m━━━━━━━━━━━━━━━━━━━━\u001b[0m\u001b[37m\u001b[0m \u001b[1m0s\u001b[0m 34ms/step\n",
      "\u001b[1m1/1\u001b[0m \u001b[32m━━━━━━━━━━━━━━━━━━━━\u001b[0m\u001b[37m\u001b[0m \u001b[1m0s\u001b[0m 33ms/step\n",
      "\u001b[1m1/1\u001b[0m \u001b[32m━━━━━━━━━━━━━━━━━━━━\u001b[0m\u001b[37m\u001b[0m \u001b[1m0s\u001b[0m 35ms/step\n",
      "\u001b[1m1/1\u001b[0m \u001b[32m━━━━━━━━━━━━━━━━━━━━\u001b[0m\u001b[37m\u001b[0m \u001b[1m0s\u001b[0m 38ms/step\n",
      "\u001b[1m1/1\u001b[0m \u001b[32m━━━━━━━━━━━━━━━━━━━━\u001b[0m\u001b[37m\u001b[0m \u001b[1m0s\u001b[0m 27ms/step\n",
      "\u001b[1m1/1\u001b[0m \u001b[32m━━━━━━━━━━━━━━━━━━━━\u001b[0m\u001b[37m\u001b[0m \u001b[1m0s\u001b[0m 33ms/step\n",
      "\u001b[1m1/1\u001b[0m \u001b[32m━━━━━━━━━━━━━━━━━━━━\u001b[0m\u001b[37m\u001b[0m \u001b[1m0s\u001b[0m 32ms/step\n",
      "\u001b[1m1/1\u001b[0m \u001b[32m━━━━━━━━━━━━━━━━━━━━\u001b[0m\u001b[37m\u001b[0m \u001b[1m0s\u001b[0m 32ms/step\n",
      "\u001b[1m1/1\u001b[0m \u001b[32m━━━━━━━━━━━━━━━━━━━━\u001b[0m\u001b[37m\u001b[0m \u001b[1m0s\u001b[0m 32ms/step\n",
      "\u001b[1m1/1\u001b[0m \u001b[32m━━━━━━━━━━━━━━━━━━━━\u001b[0m\u001b[37m\u001b[0m \u001b[1m0s\u001b[0m 40ms/step\n",
      "\u001b[1m1/1\u001b[0m \u001b[32m━━━━━━━━━━━━━━━━━━━━\u001b[0m\u001b[37m\u001b[0m \u001b[1m0s\u001b[0m 36ms/step\n",
      "\u001b[1m1/1\u001b[0m \u001b[32m━━━━━━━━━━━━━━━━━━━━\u001b[0m\u001b[37m\u001b[0m \u001b[1m0s\u001b[0m 31ms/step\n",
      "\u001b[1m1/1\u001b[0m \u001b[32m━━━━━━━━━━━━━━━━━━━━\u001b[0m\u001b[37m\u001b[0m \u001b[1m0s\u001b[0m 34ms/step\n",
      "\u001b[1m1/1\u001b[0m \u001b[32m━━━━━━━━━━━━━━━━━━━━\u001b[0m\u001b[37m\u001b[0m \u001b[1m0s\u001b[0m 37ms/step\n",
      "\u001b[1m1/1\u001b[0m \u001b[32m━━━━━━━━━━━━━━━━━━━━\u001b[0m\u001b[37m\u001b[0m \u001b[1m0s\u001b[0m 32ms/step\n",
      "\u001b[1m1/1\u001b[0m \u001b[32m━━━━━━━━━━━━━━━━━━━━\u001b[0m\u001b[37m\u001b[0m \u001b[1m0s\u001b[0m 35ms/step\n",
      "\u001b[1m1/1\u001b[0m \u001b[32m━━━━━━━━━━━━━━━━━━━━\u001b[0m\u001b[37m\u001b[0m \u001b[1m0s\u001b[0m 33ms/step\n",
      "\u001b[1m1/1\u001b[0m \u001b[32m━━━━━━━━━━━━━━━━━━━━\u001b[0m\u001b[37m\u001b[0m \u001b[1m0s\u001b[0m 33ms/step\n",
      "\u001b[1m1/1\u001b[0m \u001b[32m━━━━━━━━━━━━━━━━━━━━\u001b[0m\u001b[37m\u001b[0m \u001b[1m0s\u001b[0m 31ms/step\n",
      "\u001b[1m1/1\u001b[0m \u001b[32m━━━━━━━━━━━━━━━━━━━━\u001b[0m\u001b[37m\u001b[0m \u001b[1m0s\u001b[0m 47ms/step\n",
      "\u001b[1m1/1\u001b[0m \u001b[32m━━━━━━━━━━━━━━━━━━━━\u001b[0m\u001b[37m\u001b[0m \u001b[1m0s\u001b[0m 39ms/step\n",
      "\u001b[1m1/1\u001b[0m \u001b[32m━━━━━━━━━━━━━━━━━━━━\u001b[0m\u001b[37m\u001b[0m \u001b[1m0s\u001b[0m 32ms/step\n",
      "\u001b[1m1/1\u001b[0m \u001b[32m━━━━━━━━━━━━━━━━━━━━\u001b[0m\u001b[37m\u001b[0m \u001b[1m0s\u001b[0m 32ms/step\n",
      "\u001b[1m1/1\u001b[0m \u001b[32m━━━━━━━━━━━━━━━━━━━━\u001b[0m\u001b[37m\u001b[0m \u001b[1m0s\u001b[0m 35ms/step\n",
      "\u001b[1m1/1\u001b[0m \u001b[32m━━━━━━━━━━━━━━━━━━━━\u001b[0m\u001b[37m\u001b[0m \u001b[1m0s\u001b[0m 32ms/step\n",
      "\u001b[1m1/1\u001b[0m \u001b[32m━━━━━━━━━━━━━━━━━━━━\u001b[0m\u001b[37m\u001b[0m \u001b[1m0s\u001b[0m 33ms/step\n",
      "\u001b[1m1/1\u001b[0m \u001b[32m━━━━━━━━━━━━━━━━━━━━\u001b[0m\u001b[37m\u001b[0m \u001b[1m0s\u001b[0m 47ms/step\n",
      "\u001b[1m1/1\u001b[0m \u001b[32m━━━━━━━━━━━━━━━━━━━━\u001b[0m\u001b[37m\u001b[0m \u001b[1m0s\u001b[0m 37ms/step\n",
      "\u001b[1m1/1\u001b[0m \u001b[32m━━━━━━━━━━━━━━━━━━━━\u001b[0m\u001b[37m\u001b[0m \u001b[1m0s\u001b[0m 39ms/step\n",
      "\u001b[1m1/1\u001b[0m \u001b[32m━━━━━━━━━━━━━━━━━━━━\u001b[0m\u001b[37m\u001b[0m \u001b[1m0s\u001b[0m 35ms/step\n",
      "\u001b[1m1/1\u001b[0m \u001b[32m━━━━━━━━━━━━━━━━━━━━\u001b[0m\u001b[37m\u001b[0m \u001b[1m0s\u001b[0m 34ms/step\n",
      "\u001b[1m1/1\u001b[0m \u001b[32m━━━━━━━━━━━━━━━━━━━━\u001b[0m\u001b[37m\u001b[0m \u001b[1m0s\u001b[0m 35ms/step\n",
      "\u001b[1m1/1\u001b[0m \u001b[32m━━━━━━━━━━━━━━━━━━━━\u001b[0m\u001b[37m\u001b[0m \u001b[1m0s\u001b[0m 41ms/step\n",
      "\u001b[1m1/1\u001b[0m \u001b[32m━━━━━━━━━━━━━━━━━━━━\u001b[0m\u001b[37m\u001b[0m \u001b[1m0s\u001b[0m 35ms/step\n",
      "\u001b[1m1/1\u001b[0m \u001b[32m━━━━━━━━━━━━━━━━━━━━\u001b[0m\u001b[37m\u001b[0m \u001b[1m0s\u001b[0m 35ms/step\n",
      "\u001b[1m1/1\u001b[0m \u001b[32m━━━━━━━━━━━━━━━━━━━━\u001b[0m\u001b[37m\u001b[0m \u001b[1m0s\u001b[0m 37ms/step\n",
      "\u001b[1m1/1\u001b[0m \u001b[32m━━━━━━━━━━━━━━━━━━━━\u001b[0m\u001b[37m\u001b[0m \u001b[1m0s\u001b[0m 27ms/step\n",
      "\u001b[1m1/1\u001b[0m \u001b[32m━━━━━━━━━━━━━━━━━━━━\u001b[0m\u001b[37m\u001b[0m \u001b[1m0s\u001b[0m 40ms/step\n",
      "\u001b[1m1/1\u001b[0m \u001b[32m━━━━━━━━━━━━━━━━━━━━\u001b[0m\u001b[37m\u001b[0m \u001b[1m0s\u001b[0m 39ms/step\n",
      "\u001b[1m1/1\u001b[0m \u001b[32m━━━━━━━━━━━━━━━━━━━━\u001b[0m\u001b[37m\u001b[0m \u001b[1m0s\u001b[0m 32ms/step\n",
      "\u001b[1m1/1\u001b[0m \u001b[32m━━━━━━━━━━━━━━━━━━━━\u001b[0m\u001b[37m\u001b[0m \u001b[1m0s\u001b[0m 39ms/step\n",
      "\u001b[1m1/1\u001b[0m \u001b[32m━━━━━━━━━━━━━━━━━━━━\u001b[0m\u001b[37m\u001b[0m \u001b[1m0s\u001b[0m 33ms/step\n",
      "\u001b[1m1/1\u001b[0m \u001b[32m━━━━━━━━━━━━━━━━━━━━\u001b[0m\u001b[37m\u001b[0m \u001b[1m0s\u001b[0m 33ms/step\n",
      "\u001b[1m1/1\u001b[0m \u001b[32m━━━━━━━━━━━━━━━━━━━━\u001b[0m\u001b[37m\u001b[0m \u001b[1m0s\u001b[0m 38ms/step\n",
      "\u001b[1m1/1\u001b[0m \u001b[32m━━━━━━━━━━━━━━━━━━━━\u001b[0m\u001b[37m\u001b[0m \u001b[1m0s\u001b[0m 44ms/step\n",
      "\u001b[1m1/1\u001b[0m \u001b[32m━━━━━━━━━━━━━━━━━━━━\u001b[0m\u001b[37m\u001b[0m \u001b[1m0s\u001b[0m 36ms/step\n",
      "\u001b[1m1/1\u001b[0m \u001b[32m━━━━━━━━━━━━━━━━━━━━\u001b[0m\u001b[37m\u001b[0m \u001b[1m0s\u001b[0m 40ms/step\n",
      "\u001b[1m1/1\u001b[0m \u001b[32m━━━━━━━━━━━━━━━━━━━━\u001b[0m\u001b[37m\u001b[0m \u001b[1m0s\u001b[0m 39ms/step\n",
      "\u001b[1m1/1\u001b[0m \u001b[32m━━━━━━━━━━━━━━━━━━━━\u001b[0m\u001b[37m\u001b[0m \u001b[1m0s\u001b[0m 38ms/step\n",
      "\u001b[1m1/1\u001b[0m \u001b[32m━━━━━━━━━━━━━━━━━━━━\u001b[0m\u001b[37m\u001b[0m \u001b[1m0s\u001b[0m 37ms/step\n",
      "\u001b[1m1/1\u001b[0m \u001b[32m━━━━━━━━━━━━━━━━━━━━\u001b[0m\u001b[37m\u001b[0m \u001b[1m0s\u001b[0m 38ms/step\n",
      "\u001b[1m1/1\u001b[0m \u001b[32m━━━━━━━━━━━━━━━━━━━━\u001b[0m\u001b[37m\u001b[0m \u001b[1m0s\u001b[0m 36ms/step\n",
      "\u001b[1m1/1\u001b[0m \u001b[32m━━━━━━━━━━━━━━━━━━━━\u001b[0m\u001b[37m\u001b[0m \u001b[1m0s\u001b[0m 35ms/step\n",
      "\u001b[1m1/1\u001b[0m \u001b[32m━━━━━━━━━━━━━━━━━━━━\u001b[0m\u001b[37m\u001b[0m \u001b[1m0s\u001b[0m 32ms/step\n",
      "\u001b[1m1/1\u001b[0m \u001b[32m━━━━━━━━━━━━━━━━━━━━\u001b[0m\u001b[37m\u001b[0m \u001b[1m0s\u001b[0m 29ms/step\n",
      "\u001b[1m1/1\u001b[0m \u001b[32m━━━━━━━━━━━━━━━━━━━━\u001b[0m\u001b[37m\u001b[0m \u001b[1m0s\u001b[0m 29ms/step\n",
      "\u001b[1m1/1\u001b[0m \u001b[32m━━━━━━━━━━━━━━━━━━━━\u001b[0m\u001b[37m\u001b[0m \u001b[1m0s\u001b[0m 39ms/step\n",
      "\u001b[1m1/1\u001b[0m \u001b[32m━━━━━━━━━━━━━━━━━━━━\u001b[0m\u001b[37m\u001b[0m \u001b[1m0s\u001b[0m 33ms/step\n",
      "\u001b[1m1/1\u001b[0m \u001b[32m━━━━━━━━━━━━━━━━━━━━\u001b[0m\u001b[37m\u001b[0m \u001b[1m0s\u001b[0m 34ms/step\n",
      "\u001b[1m1/1\u001b[0m \u001b[32m━━━━━━━━━━━━━━━━━━━━\u001b[0m\u001b[37m\u001b[0m \u001b[1m0s\u001b[0m 35ms/step\n",
      "\u001b[1m1/1\u001b[0m \u001b[32m━━━━━━━━━━━━━━━━━━━━\u001b[0m\u001b[37m\u001b[0m \u001b[1m0s\u001b[0m 34ms/step\n",
      "\u001b[1m1/1\u001b[0m \u001b[32m━━━━━━━━━━━━━━━━━━━━\u001b[0m\u001b[37m\u001b[0m \u001b[1m0s\u001b[0m 38ms/step\n",
      "\u001b[1m1/1\u001b[0m \u001b[32m━━━━━━━━━━━━━━━━━━━━\u001b[0m\u001b[37m\u001b[0m \u001b[1m0s\u001b[0m 35ms/step\n",
      "\u001b[1m1/1\u001b[0m \u001b[32m━━━━━━━━━━━━━━━━━━━━\u001b[0m\u001b[37m\u001b[0m \u001b[1m0s\u001b[0m 34ms/step\n",
      "\u001b[1m1/1\u001b[0m \u001b[32m━━━━━━━━━━━━━━━━━━━━\u001b[0m\u001b[37m\u001b[0m \u001b[1m0s\u001b[0m 32ms/step\n",
      "\u001b[1m1/1\u001b[0m \u001b[32m━━━━━━━━━━━━━━━━━━━━\u001b[0m\u001b[37m\u001b[0m \u001b[1m0s\u001b[0m 41ms/step\n",
      "\u001b[1m1/1\u001b[0m \u001b[32m━━━━━━━━━━━━━━━━━━━━\u001b[0m\u001b[37m\u001b[0m \u001b[1m0s\u001b[0m 32ms/step\n",
      "\u001b[1m1/1\u001b[0m \u001b[32m━━━━━━━━━━━━━━━━━━━━\u001b[0m\u001b[37m\u001b[0m \u001b[1m0s\u001b[0m 32ms/step\n",
      "\u001b[1m1/1\u001b[0m \u001b[32m━━━━━━━━━━━━━━━━━━━━\u001b[0m\u001b[37m\u001b[0m \u001b[1m0s\u001b[0m 32ms/step\n",
      "\u001b[1m1/1\u001b[0m \u001b[32m━━━━━━━━━━━━━━━━━━━━\u001b[0m\u001b[37m\u001b[0m \u001b[1m0s\u001b[0m 50ms/step\n",
      "\u001b[1m1/1\u001b[0m \u001b[32m━━━━━━━━━━━━━━━━━━━━\u001b[0m\u001b[37m\u001b[0m \u001b[1m0s\u001b[0m 32ms/step\n",
      "\u001b[1m1/1\u001b[0m \u001b[32m━━━━━━━━━━━━━━━━━━━━\u001b[0m\u001b[37m\u001b[0m \u001b[1m0s\u001b[0m 33ms/step\n",
      "\u001b[1m1/1\u001b[0m \u001b[32m━━━━━━━━━━━━━━━━━━━━\u001b[0m\u001b[37m\u001b[0m \u001b[1m0s\u001b[0m 36ms/step\n",
      "\u001b[1m1/1\u001b[0m \u001b[32m━━━━━━━━━━━━━━━━━━━━\u001b[0m\u001b[37m\u001b[0m \u001b[1m0s\u001b[0m 47ms/step\n",
      "\u001b[1m1/1\u001b[0m \u001b[32m━━━━━━━━━━━━━━━━━━━━\u001b[0m\u001b[37m\u001b[0m \u001b[1m0s\u001b[0m 32ms/step\n",
      "\u001b[1m1/1\u001b[0m \u001b[32m━━━━━━━━━━━━━━━━━━━━\u001b[0m\u001b[37m\u001b[0m \u001b[1m0s\u001b[0m 47ms/step\n",
      "\u001b[1m1/1\u001b[0m \u001b[32m━━━━━━━━━━━━━━━━━━━━\u001b[0m\u001b[37m\u001b[0m \u001b[1m0s\u001b[0m 42ms/step\n",
      "\u001b[1m1/1\u001b[0m \u001b[32m━━━━━━━━━━━━━━━━━━━━\u001b[0m\u001b[37m\u001b[0m \u001b[1m0s\u001b[0m 34ms/step\n",
      "\u001b[1m1/1\u001b[0m \u001b[32m━━━━━━━━━━━━━━━━━━━━\u001b[0m\u001b[37m\u001b[0m \u001b[1m0s\u001b[0m 33ms/step\n",
      "\u001b[1m1/1\u001b[0m \u001b[32m━━━━━━━━━━━━━━━━━━━━\u001b[0m\u001b[37m\u001b[0m \u001b[1m0s\u001b[0m 38ms/step\n",
      "\u001b[1m1/1\u001b[0m \u001b[32m━━━━━━━━━━━━━━━━━━━━\u001b[0m\u001b[37m\u001b[0m \u001b[1m0s\u001b[0m 37ms/step\n",
      "\u001b[1m1/1\u001b[0m \u001b[32m━━━━━━━━━━━━━━━━━━━━\u001b[0m\u001b[37m\u001b[0m \u001b[1m0s\u001b[0m 33ms/step\n",
      "\u001b[1m1/1\u001b[0m \u001b[32m━━━━━━━━━━━━━━━━━━━━\u001b[0m\u001b[37m\u001b[0m \u001b[1m0s\u001b[0m 35ms/step\n",
      "\u001b[1m1/1\u001b[0m \u001b[32m━━━━━━━━━━━━━━━━━━━━\u001b[0m\u001b[37m\u001b[0m \u001b[1m0s\u001b[0m 32ms/step\n"
     ]
    }
   ],
   "source": [
    "p_s = predict_list(img_list,model)"
   ]
  },
  {
   "cell_type": "code",
   "execution_count": 85,
   "id": "b0002e05-babb-48da-865c-b6ef91bf3b62",
   "metadata": {},
   "outputs": [
    {
     "name": "stdout",
     "output_type": "stream",
     "text": [
      "NNEJERGFFGRAJJSOLLJRQNSAHICHJSHERHHNHFLPFHLANDNEGAPKJGAMKEALGJANNQKEDBHPDHPCQNSJAPJDGGQMPLADNQANDJQJ\n"
     ]
    }
   ],
   "source": [
    "print(p_s)"
   ]
  },
  {
   "cell_type": "code",
   "execution_count": null,
   "id": "2f2ea077-a7a9-4bf6-95b7-de0bd24e495e",
   "metadata": {},
   "outputs": [],
   "source": []
  }
 ],
 "metadata": {
  "kernelspec": {
   "display_name": "epoch_task_2",
   "language": "python",
   "name": "epoch_task_2"
  },
  "language_info": {
   "codemirror_mode": {
    "name": "ipython",
    "version": 3
   },
   "file_extension": ".py",
   "mimetype": "text/x-python",
   "name": "python",
   "nbconvert_exporter": "python",
   "pygments_lexer": "ipython3",
   "version": "3.11.7"
  }
 },
 "nbformat": 4,
 "nbformat_minor": 5
}
